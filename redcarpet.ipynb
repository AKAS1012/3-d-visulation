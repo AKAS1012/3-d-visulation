{
  "nbformat": 4,
  "nbformat_minor": 0,
  "metadata": {
    "colab": {
      "name": "redcarpet.ipynb",
      "provenance": [],
      "authorship_tag": "ABX9TyNO294DzEHd1opVip3pNqB/",
      "include_colab_link": true
    },
    "kernelspec": {
      "name": "python3",
      "display_name": "Python 3"
    }
  },
  "cells": [
    {
      "cell_type": "markdown",
      "metadata": {
        "id": "view-in-github",
        "colab_type": "text"
      },
      "source": [
        "<a href=\"https://colab.research.google.com/github/AKAS1012/3-d-visulation/blob/master/redcarpet.ipynb\" target=\"_parent\"><img src=\"https://colab.research.google.com/assets/colab-badge.svg\" alt=\"Open In Colab\"/></a>"
      ]
    },
    {
      "cell_type": "code",
      "metadata": {
        "id": "2AYGtafvWGmp",
        "colab_type": "code",
        "colab": {}
      },
      "source": [
        "import numpy as np\n",
        "import pandas as pd\n",
        "\n"
      ],
      "execution_count": null,
      "outputs": []
    },
    {
      "cell_type": "code",
      "metadata": {
        "id": "Ee0cJ64dF0ly",
        "colab_type": "code",
        "colab": {}
      },
      "source": [
        "#Q1: How much profit % is generated in 1 year?"
      ],
      "execution_count": null,
      "outputs": []
    },
    {
      "cell_type": "code",
      "metadata": {
        "id": "VwzqAq4OatDu",
        "colab_type": "code",
        "colab": {
          "base_uri": "https://localhost:8080/",
          "height": 34
        },
        "outputId": "9940d96a-d9f8-4a17-ab50-2831fe12a053"
      },
      "source": [
        "TotalRevenue=(1000*15)/100+20\n",
        "TotalRevenue"
      ],
      "execution_count": null,
      "outputs": [
        {
          "output_type": "execute_result",
          "data": {
            "text/plain": [
              "170.0"
            ]
          },
          "metadata": {
            "tags": []
          },
          "execution_count": 3
        }
      ]
    },
    {
      "cell_type": "code",
      "metadata": {
        "id": "gR7Xn2fSbO8X",
        "colab_type": "code",
        "colab": {
          "base_uri": "https://localhost:8080/",
          "height": 34
        },
        "outputId": "4a3b09e6-1318-44de-98c0-1a73a8915eac"
      },
      "source": [
        "TotalExpense=(3*1000)/100+25+10+(1000*6.5)/100\n",
        "TotalExpense"
      ],
      "execution_count": null,
      "outputs": [
        {
          "output_type": "execute_result",
          "data": {
            "text/plain": [
              "130.0"
            ]
          },
          "metadata": {
            "tags": []
          },
          "execution_count": 4
        }
      ]
    },
    {
      "cell_type": "code",
      "metadata": {
        "id": "1UwPeNBhgJvn",
        "colab_type": "code",
        "colab": {
          "base_uri": "https://localhost:8080/",
          "height": 34
        },
        "outputId": "4e483644-d425-4b84-ea73-42363a9826a1"
      },
      "source": [
        "Profit=TotalRevenue-TotalExpense\n",
        "Profit"
      ],
      "execution_count": null,
      "outputs": [
        {
          "output_type": "execute_result",
          "data": {
            "text/plain": [
              "40.0"
            ]
          },
          "metadata": {
            "tags": []
          },
          "execution_count": 6
        }
      ]
    },
    {
      "cell_type": "code",
      "metadata": {
        "id": "qpa2BcuR-noJ",
        "colab_type": "code",
        "colab": {}
      },
      "source": [
        "#Q2: The 3% loss rate can either mean either 3% of the outstanding balance defaults or 3% of the borrowers default on their entire balance. If the average balance is increased to $2000, what happens to the loss?"
      ],
      "execution_count": null,
      "outputs": []
    },
    {
      "cell_type": "markdown",
      "metadata": {
        "id": "Q8EKA1sG-vv9",
        "colab_type": "text"
      },
      "source": [
        "2-The loss doubles either way calculate it"
      ]
    },
    {
      "cell_type": "code",
      "metadata": {
        "id": "06HPvD4i_eBP",
        "colab_type": "code",
        "colab": {}
      },
      "source": [
        "#Q3: Is a borrower with a low balance more or less likely to default then a borrower with a high balance? Why ? explain clearly"
      ],
      "execution_count": null,
      "outputs": []
    },
    {
      "cell_type": "markdown",
      "metadata": {
        "id": "pYNNKiKc_ffH",
        "colab_type": "text"
      },
      "source": [
        "3-less likely Borrowers tend to charge up a balance before they default"
      ]
    },
    {
      "cell_type": "code",
      "metadata": {
        "id": "hGVpDxUH_-Sk",
        "colab_type": "code",
        "colab": {}
      },
      "source": [
        "#Q4: The group company has now become unhappy with the credit card provider. it wants to start its own credit card. But for that, it will need to purchase the customers from the current credit card company. If the affilated group offered Rs 20 per account to purchase all the customers from the credit card company, what would there profit be? (assume that we are only talking about 1 year)"
      ],
      "execution_count": null,
      "outputs": []
    },
    {
      "cell_type": "markdown",
      "metadata": {
        "id": "a-NnBTx3AA4m",
        "colab_type": "text"
      },
      "source": [
        "The most likely scenario is that they want to purchase the accounts inorder to turn around and sell them to another financial instituation"
      ]
    },
    {
      "cell_type": "code",
      "metadata": {
        "id": "Ctvzu5z_BcyZ",
        "colab_type": "code",
        "colab": {}
      },
      "source": [
        "#Q5: What numbers can the financial institution change to convince the affiliated group not to want to purchase, while still not going into a loss? Give a range of what the new numbers are (min and max)"
      ],
      "execution_count": null,
      "outputs": []
    },
    {
      "cell_type": "markdown",
      "metadata": {
        "id": "unkYx9zdBiuc",
        "colab_type": "text"
      },
      "source": [
        "Current profit per account is $40 minus the cost of $20 per account to purchase and eliminate the affiliation fee of $10 per account. Profit after the purchase would be $30."
      ]
    },
    {
      "cell_type": "code",
      "metadata": {
        "id": "qNYLW6WpCnGi",
        "colab_type": "code",
        "colab": {}
      },
      "source": [
        "#Q6: What is the extra cost(if any) company will have to incur if the customer delays the payment of the credit card bill after the due date?"
      ],
      "execution_count": null,
      "outputs": []
    },
    {
      "cell_type": "markdown",
      "metadata": {
        "id": "HV7AJeRRC2XX",
        "colab_type": "text"
      },
      "source": [
        "Increase the affiliation fee to"
      ]
    },
    {
      "cell_type": "code",
      "metadata": {
        "id": "sZRB-jp1EcWk",
        "colab_type": "code",
        "colab": {}
      },
      "source": [
        "#Q7: Is it beneficial for the company if the customer pays the credit card bill after the due date? (express your views as a business strategy analyst with a short example)"
      ],
      "execution_count": null,
      "outputs": []
    },
    {
      "cell_type": "markdown",
      "metadata": {
        "id": "g6_OGpgqEiJ1",
        "colab_type": "text"
      },
      "source": [
        "Max profit is the current level of $40 and minimum is the profit if sold to affiliation at $20. $40-$20=$20. they could only increase the fee by $20 for new affilition fee of $30. that is all I can recall from memory. There waasn't a lot more. My advice is don't over-thinks"
      ]
    },
    {
      "cell_type": "code",
      "metadata": {
        "id": "6CgWN6dn4xVa",
        "colab_type": "code",
        "colab": {}
      },
      "source": [
        ""
      ],
      "execution_count": null,
      "outputs": []
    }
  ]
}